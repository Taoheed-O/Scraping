{
 "cells": [
  {
   "cell_type": "markdown",
   "metadata": {
    "papermill": {
     "duration": 0.012394,
     "end_time": "2021-01-15T12:52:29.347004",
     "exception": false,
     "start_time": "2021-01-15T12:52:29.334610",
     "status": "completed"
    },
    "tags": []
   },
   "source": [
    "### Lets see how to create a dataset for Sentiment Analysis by scraping user reviews for Android apps. We will convert the app and review information into Data Frames and save that to CSV files.\n",
    "\n",
    "### We will learn how to:\n",
    "#### * Set a goal and inclusion criteria for your dataset\n",
    "#### * Get real-world user reviews by scraping Google Play\n",
    "#### * Use Pandas to convert and save the dataset into CSV files"
   ]
  },
  {
   "cell_type": "markdown",
   "metadata": {
    "papermill": {
     "duration": 0.010907,
     "end_time": "2021-01-15T12:52:29.369402",
     "exception": false,
     "start_time": "2021-01-15T12:52:29.358495",
     "status": "completed"
    },
    "tags": []
   },
   "source": [
    "#### Let's install the required packages and setup the imports:"
   ]
  },
  {
   "cell_type": "code",
   "execution_count": 1,
   "metadata": {
    "execution": {
     "iopub.execute_input": "2021-01-15T12:52:29.397882Z",
     "iopub.status.busy": "2021-01-15T12:52:29.397118Z",
     "iopub.status.idle": "2021-01-15T12:52:40.676627Z",
     "shell.execute_reply": "2021-01-15T12:52:40.675723Z"
    },
    "papermill": {
     "duration": 11.296261,
     "end_time": "2021-01-15T12:52:40.676743",
     "exception": false,
     "start_time": "2021-01-15T12:52:29.380482",
     "status": "completed"
    },
    "tags": []
   },
   "outputs": [
    {
     "name": "stdout",
     "output_type": "stream",
     "text": [
      "Collecting google-play-scraper\n",
      "  Downloading google_play_scraper-1.2.4-py3-none-any.whl (28 kB)\n",
      "Installing collected packages: google-play-scraper\n",
      "Successfully installed google-play-scraper-1.2.4\n"
     ]
    },
    {
     "name": "stderr",
     "output_type": "stream",
     "text": [
      "\n",
      "[notice] A new release of pip is available: 23.2.1 -> 23.3.2\n",
      "[notice] To update, run: python.exe -m pip install --upgrade pip\n"
     ]
    }
   ],
   "source": [
    "!pip install google-play-scraper"
   ]
  },
  {
   "cell_type": "code",
   "execution_count": 2,
   "metadata": {
    "execution": {
     "iopub.execute_input": "2021-01-15T12:52:40.716484Z",
     "iopub.status.busy": "2021-01-15T12:52:40.715497Z",
     "iopub.status.idle": "2021-01-15T12:52:41.574751Z",
     "shell.execute_reply": "2021-01-15T12:52:41.574269Z"
    },
    "papermill": {
     "duration": 0.881965,
     "end_time": "2021-01-15T12:52:41.574859",
     "exception": false,
     "start_time": "2021-01-15T12:52:40.692894",
     "status": "completed"
    },
    "tags": []
   },
   "outputs": [],
   "source": [
    "import json\n",
    "import pandas as pd\n",
    "from tqdm import tqdm\n",
    "\n",
    "import seaborn as sns\n",
    "import matplotlib.pyplot as plt\n",
    "\n",
    "from pygments import highlight\n",
    "from pygments.lexers import JsonLexer\n",
    "from pygments.formatters import TerminalFormatter\n",
    "\n",
    "from google_play_scraper import Sort, reviews, app\n",
    "\n",
    "%matplotlib inline\n",
    "%config InlineBackend.figure_format='retina'\n",
    "\n",
    "sns.set(style='whitegrid', palette='muted', font_scale=1.2)"
   ]
  },
  {
   "cell_type": "markdown",
   "metadata": {
    "papermill": {
     "duration": 0.014484,
     "end_time": "2021-01-15T12:52:41.604276",
     "exception": false,
     "start_time": "2021-01-15T12:52:41.589792",
     "status": "completed"
    },
    "tags": []
   },
   "source": [
    "#### We want to get the necessary feedback for different applications, both negative and positive reviews would be good but the negative one can reveal critical features that are missing in an application's service. Lucky for us, Google Play as plenty of applications, reviews and scores. We will be scraping application info and reviews using the google-play-scraper package. \n",
    "\n",
    "#### There are a lot of applications which we can choose to analyze, but the different application categories contain different audiences and domain specific knowledge. We will start simple. We want apps that have been around some time, so opinion is collected organically. We want to mitigate advertising strategies as much as possible. Apps are constantly being updated, so the time of the review is an important factor. Ideally, you would want to collect every possible review and work with that. However, in the real world, data is often limited. So, we'll do the best we can.\n",
    "\n",
    "#### Let's choose some apps that fit the criteria from the Productivity category. We'll use AppAnnie to select some of the top US apps:"
   ]
  },
  {
   "cell_type": "code",
   "execution_count": 24,
   "metadata": {
    "execution": {
     "iopub.execute_input": "2021-01-15T12:52:41.641218Z",
     "iopub.status.busy": "2021-01-15T12:52:41.640520Z",
     "iopub.status.idle": "2021-01-15T12:52:41.643553Z",
     "shell.execute_reply": "2021-01-15T12:52:41.644020Z"
    },
    "papermill": {
     "duration": 0.024574,
     "end_time": "2021-01-15T12:52:41.644138",
     "exception": false,
     "start_time": "2021-01-15T12:52:41.619564",
     "status": "completed"
    },
    "tags": []
   },
   "outputs": [
    {
     "data": {
      "text/plain": [
       "4"
      ]
     },
     "execution_count": 24,
     "metadata": {},
     "output_type": "execute_result"
    }
   ],
   "source": [
    "app_packages = [\n",
    "    'com.styleseat.promobile', 'com.shortcutssoftware.mysalon.hair',\n",
    "    'com.loreal.swatchbook', 'com.taper.cp'\n",
    "]\n",
    "\n",
    "len(app_packages)"
   ]
  },
  {
   "cell_type": "markdown",
   "metadata": {
    "papermill": {
     "duration": 0.014699,
     "end_time": "2021-01-15T12:52:41.673812",
     "exception": false,
     "start_time": "2021-01-15T12:52:41.659113",
     "status": "completed"
    },
    "tags": []
   },
   "source": [
    "## Scraping App Information\n",
    "### Lets scrape information for each app"
   ]
  },
  {
   "cell_type": "code",
   "execution_count": 25,
   "metadata": {
    "execution": {
     "iopub.execute_input": "2021-01-15T12:52:41.709684Z",
     "iopub.status.busy": "2021-01-15T12:52:41.708479Z",
     "iopub.status.idle": "2021-01-15T12:52:45.853709Z",
     "shell.execute_reply": "2021-01-15T12:52:45.854207Z"
    },
    "papermill": {
     "duration": 4.165637,
     "end_time": "2021-01-15T12:52:45.854345",
     "exception": false,
     "start_time": "2021-01-15T12:52:41.688708",
     "status": "completed"
    },
    "tags": []
   },
   "outputs": [
    {
     "name": "stderr",
     "output_type": "stream",
     "text": [
      "100%|██████████| 4/4 [00:11<00:00,  2.92s/it]\n"
     ]
    }
   ],
   "source": [
    "app_infos = []\n",
    "\n",
    "for ap in tqdm(app_packages):\n",
    "  info = app(ap, lang='en', country='us')\n",
    "  del info['comments']\n",
    "  app_infos.append(info)"
   ]
  },
  {
   "attachments": {},
   "cell_type": "markdown",
   "metadata": {
    "papermill": {
     "duration": 0.020809,
     "end_time": "2021-01-15T12:52:45.895459",
     "exception": false,
     "start_time": "2021-01-15T12:52:45.874650",
     "status": "completed"
    },
    "tags": []
   },
   "source": [
    "### We got the info for all 4 apps. Let's write a helper function that prints JSON objects a bit better:"
   ]
  },
  {
   "cell_type": "code",
   "execution_count": 26,
   "metadata": {
    "execution": {
     "iopub.execute_input": "2021-01-15T12:52:45.941268Z",
     "iopub.status.busy": "2021-01-15T12:52:45.940420Z",
     "iopub.status.idle": "2021-01-15T12:52:45.942467Z",
     "shell.execute_reply": "2021-01-15T12:52:45.942837Z"
    },
    "papermill": {
     "duration": 0.026916,
     "end_time": "2021-01-15T12:52:45.942944",
     "exception": false,
     "start_time": "2021-01-15T12:52:45.916028",
     "status": "completed"
    },
    "tags": []
   },
   "outputs": [],
   "source": [
    "def print_json(json_object):\n",
    "  json_str = json.dumps(\n",
    "    json_object,\n",
    "    indent=2,\n",
    "    sort_keys=True,\n",
    "    default=str\n",
    "  )\n",
    "  print(highlight(json_str, JsonLexer(), TerminalFormatter()))"
   ]
  },
  {
   "cell_type": "markdown",
   "metadata": {
    "papermill": {
     "duration": 0.019662,
     "end_time": "2021-01-15T12:52:45.982349",
     "exception": false,
     "start_time": "2021-01-15T12:52:45.962687",
     "status": "completed"
    },
    "tags": []
   },
   "source": [
    "### Here is a sample app information from the list:"
   ]
  },
  {
   "cell_type": "code",
   "execution_count": 27,
   "metadata": {
    "execution": {
     "iopub.execute_input": "2021-01-15T12:52:46.028634Z",
     "iopub.status.busy": "2021-01-15T12:52:46.028115Z",
     "iopub.status.idle": "2021-01-15T12:52:46.041509Z",
     "shell.execute_reply": "2021-01-15T12:52:46.042700Z"
    },
    "papermill": {
     "duration": 0.039885,
     "end_time": "2021-01-15T12:52:46.042991",
     "exception": false,
     "start_time": "2021-01-15T12:52:46.003106",
     "status": "completed"
    },
    "tags": []
   },
   "outputs": [
    {
     "name": "stdout",
     "output_type": "stream",
     "text": [
      "{\u001b[37m\u001b[39;49;00m\n",
      "\u001b[37m  \u001b[39;49;00m\u001b[94m\"adSupported\"\u001b[39;49;00m:\u001b[37m \u001b[39;49;00m\u001b[34mfalse\u001b[39;49;00m,\u001b[37m\u001b[39;49;00m\n",
      "\u001b[37m  \u001b[39;49;00m\u001b[94m\"appId\"\u001b[39;49;00m:\u001b[37m \u001b[39;49;00m\u001b[33m\"com.styleseat.promobile\"\u001b[39;49;00m,\u001b[37m\u001b[39;49;00m\n",
      "\u001b[37m  \u001b[39;49;00m\u001b[94m\"categories\"\u001b[39;49;00m:\u001b[37m \u001b[39;49;00m[\u001b[37m\u001b[39;49;00m\n",
      "\u001b[37m    \u001b[39;49;00m{\u001b[37m\u001b[39;49;00m\n",
      "\u001b[37m      \u001b[39;49;00m\u001b[94m\"id\"\u001b[39;49;00m:\u001b[37m \u001b[39;49;00m\u001b[33m\"PRODUCTIVITY\"\u001b[39;49;00m,\u001b[37m\u001b[39;49;00m\n",
      "\u001b[37m      \u001b[39;49;00m\u001b[94m\"name\"\u001b[39;49;00m:\u001b[37m \u001b[39;49;00m\u001b[33m\"Productivity\"\u001b[39;49;00m\u001b[37m\u001b[39;49;00m\n",
      "\u001b[37m    \u001b[39;49;00m}\u001b[37m\u001b[39;49;00m\n",
      "\u001b[37m  \u001b[39;49;00m],\u001b[37m\u001b[39;49;00m\n",
      "\u001b[37m  \u001b[39;49;00m\u001b[94m\"containsAds\"\u001b[39;49;00m:\u001b[37m \u001b[39;49;00m\u001b[34mfalse\u001b[39;49;00m,\u001b[37m\u001b[39;49;00m\n",
      "\u001b[37m  \u001b[39;49;00m\u001b[94m\"contentRating\"\u001b[39;49;00m:\u001b[37m \u001b[39;49;00m\u001b[33m\"Everyone\"\u001b[39;49;00m,\u001b[37m\u001b[39;49;00m\n",
      "\u001b[37m  \u001b[39;49;00m\u001b[94m\"contentRatingDescription\"\u001b[39;49;00m:\u001b[37m \u001b[39;49;00m\u001b[34mnull\u001b[39;49;00m,\u001b[37m\u001b[39;49;00m\n",
      "\u001b[37m  \u001b[39;49;00m\u001b[94m\"currency\"\u001b[39;49;00m:\u001b[37m \u001b[39;49;00m\u001b[33m\"USD\"\u001b[39;49;00m,\u001b[37m\u001b[39;49;00m\n",
      "\u001b[37m  \u001b[39;49;00m\u001b[94m\"description\"\u001b[39;49;00m:\u001b[37m \u001b[39;49;00m\u001b[33m\"StyleSeat is a beauty and grooming marketplace that helps millions of new clients search, discover, and book beauty and barber professionals. It\\u2019s the only booking platform that grows your revenue for you by helping you get exposure to new clients and earn more for appointments. \\r\\n\\r\\nFOR PROFESSIONALS: \\r\\n\\r\\nMost professionals double their revenue in the first year with our unique growth features: \\r\\n\\r\\n- Get promoted and get exposure to new clients through StyleSeat\\u2019s marketing program \\r\\n- When you have last minute cancellations, StyleSeat will reach out to clients and help you fill them\\r\\n- Get paid more for your most popular time slots\\r\\n- Get paid when clients no-show or cancel late \\r\\n- Accept touchless credit card payments\\r\\n- Take up-front deposits \\r\\n- Get a professional online booking site that gives clients info about your services and prices \\r\\n- Get bookings directly through Instagram\\r\\n- Share photos of your best blowouts, braids, makeup, nails and haircuts\\r\\n- Manage your calendar, availability, and personal time\\r\\n- Send automatic appointment reminders so clients show up to the salon on time\\r\\n- Boost business and get more bookings with email marketing and promotions\\r\\n- Keep track of important client notes and booking history\\r\\n- Attract new clients to your salon by highlighting their best reviews\\r\\n\\r\\nFOR CLIENTS: \\r\\n\\r\\nClients can easily discover and book beauty & barber appointments online. Whether you\\u2019re looking for pedicures, lash extensions, weaves, or new hairstyles, StyleSeat offers a convenient way to browse photos and reviews, get important pricing information, and book appointments at a time that works for you straight from your professional's calendar.\\r\\n\\r\\n- Browse photos of hairstyles and color and find a salon that\\u2019s right for you.\\r\\n- Never miss a massage with helpful appointment reminders.\\r\\n- Book recurring appointments with your barber so your haircuts are always on schedule.\\r\\n- Realize you need to get your nails or makeup done for a wedding but it\\u2019s too late to call your pro? Hop on StyleSeat, find their next opening, and book a manicure.\\r\\n- Tired of the same hairstyles and nails? Browse the directory and find a stylist that\\u2019s a better match.\\r\\n \\r\\nWHY STYLESEAT IS A MUST FOR INDEPENDENT PROFESSIONALS:\\r\\n\\r\\nOn average, stylists waste more than ten hours a week on various administrative and business tasks. Imagine how many appointments you could fill with those extra ten hours! StyleSeat does the busy work for you so you can focus on delivering great services and getting paid.\\r\\n\\r\\n- Your service menu is online. Clients can look through your services, read the descriptions, and get pricing information so you can stop wasting time answering inquiries.\\r\\n- Clients book themselves. You won\\u2019t have to schedule a single appointment \\u2014 no phone calls, texts, or DMs. Once you share your schedule online, clients can find a time that works for them, put a credit card on file, and book an appointment. You get a notification once the appointment is booked and all you have to do is show up and work your magic.\\r\\n- You get bookings 24/7 Allowing clients to book and reschedule 24/7 means you never miss out on the opportunity for a booking \\u2014 no more phone tag, texting back and forth, or full inboxes.\\r\\n- You can easily accept touchless payments with credit cards. Clients put a credit card on file so check out is quick and painless.\\r\\n- You get detailed reports. See a breakdown of your daily/monthly/yearly sales, deposits, and transactions \\u2014 no need to manually keep track.\\r\\n- You get paid when clients don\\u2019t show up. The average stylist faces 1-2 no-shows a week. For some, that can add up to nearly $5,000 a year. Set up a no-show late cancellation policy and clients will be required to enter a credit card when they book.\"\u001b[39;49;00m,\u001b[37m\u001b[39;49;00m\n",
      "\u001b[37m  \u001b[39;49;00m\u001b[94m\"descriptionHTML\"\u001b[39;49;00m:\u001b[37m \u001b[39;49;00m\u001b[33m\"StyleSeat is a beauty and grooming marketplace that helps millions of new clients search, discover, and book beauty and barber professionals. It\\u2019s the only booking platform that grows your revenue for you by helping you get exposure to new clients and earn more for appointments. <br><br>FOR PROFESSIONALS: <br><br>Most professionals double their revenue in the first year with our unique growth features: <br><br>- Get promoted and get exposure to new clients through StyleSeat\\u2019s marketing program <br>- When you have last minute cancellations, StyleSeat will reach out to clients and help you fill them<br>- Get paid more for your most popular time slots<br>- Get paid when clients no-show or cancel late <br>- Accept touchless credit card payments<br>- Take up-front deposits <br>- Get a professional online booking site that gives clients info about your services and prices <br>- Get bookings directly through Instagram<br>- Share photos of your best blowouts, braids, makeup, nails and haircuts<br>- Manage your calendar, availability, and personal time<br>- Send automatic appointment reminders so clients show up to the salon on time<br>- Boost business and get more bookings with email marketing and promotions<br>- Keep track of important client notes and booking history<br>- Attract new clients to your salon by highlighting their best reviews<br><br>FOR CLIENTS: <br><br>Clients can easily discover and book beauty &amp; barber appointments online. Whether you\\u2019re looking for pedicures, lash extensions, weaves, or new hairstyles, StyleSeat offers a convenient way to browse photos and reviews, get important pricing information, and book appointments at a time that works for you straight from your professional&#39;s calendar.<br><br>- Browse photos of hairstyles and color and find a salon that\\u2019s right for you.<br>- Never miss a massage with helpful appointment reminders.<br>- Book recurring appointments with your barber so your haircuts are always on schedule.<br>- Realize you need to get your nails or makeup done for a wedding but it\\u2019s too late to call your pro? Hop on StyleSeat, find their next opening, and book a manicure.<br>- Tired of the same hairstyles and nails? Browse the directory and find a stylist that\\u2019s a better match.<br> <br>WHY STYLESEAT IS A MUST FOR INDEPENDENT PROFESSIONALS:<br><br>On average, stylists waste more than ten hours a week on various administrative and business tasks. Imagine how many appointments you could fill with those extra ten hours! StyleSeat does the busy work for you so you can focus on delivering great services and getting paid.<br><br>- Your service menu is online. Clients can look through your services, read the descriptions, and get pricing information so you can stop wasting time answering inquiries.<br>- Clients book themselves. You won\\u2019t have to schedule a single appointment \\u2014 no phone calls, texts, or DMs. Once you share your schedule online, clients can find a time that works for them, put a credit card on file, and book an appointment. You get a notification once the appointment is booked and all you have to do is show up and work your magic.<br>- You get bookings 24/7 Allowing clients to book and reschedule 24/7 means you never miss out on the opportunity for a booking \\u2014 no more phone tag, texting back and forth, or full inboxes.<br>- You can easily accept touchless payments with credit cards. Clients put a credit card on file so check out is quick and painless.<br>- You get detailed reports. See a breakdown of your daily/monthly/yearly sales, deposits, and transactions \\u2014 no need to manually keep track.<br>- You get paid when clients don\\u2019t show up. The average stylist faces 1-2 no-shows a week. For some, that can add up to nearly $5,000 a year. Set up a no-show late cancellation policy and clients will be required to enter a credit card when they book.\"\u001b[39;49;00m,\u001b[37m\u001b[39;49;00m\n",
      "\u001b[37m  \u001b[39;49;00m\u001b[94m\"developer\"\u001b[39;49;00m:\u001b[37m \u001b[39;49;00m\u001b[33m\"Styleseat\"\u001b[39;49;00m,\u001b[37m\u001b[39;49;00m\n",
      "\u001b[37m  \u001b[39;49;00m\u001b[94m\"developerAddress\"\u001b[39;49;00m:\u001b[37m \u001b[39;49;00m\u001b[34mnull\u001b[39;49;00m,\u001b[37m\u001b[39;49;00m\n",
      "\u001b[37m  \u001b[39;49;00m\u001b[94m\"developerEmail\"\u001b[39;49;00m:\u001b[37m \u001b[39;49;00m\u001b[33m\"info@styleseat.com\"\u001b[39;49;00m,\u001b[37m\u001b[39;49;00m\n",
      "\u001b[37m  \u001b[39;49;00m\u001b[94m\"developerId\"\u001b[39;49;00m:\u001b[37m \u001b[39;49;00m\u001b[33m\"Styleseat\"\u001b[39;49;00m,\u001b[37m\u001b[39;49;00m\n",
      "\u001b[37m  \u001b[39;49;00m\u001b[94m\"developerWebsite\"\u001b[39;49;00m:\u001b[37m \u001b[39;49;00m\u001b[33m\"http://www.styleseat.com\"\u001b[39;49;00m,\u001b[37m\u001b[39;49;00m\n",
      "\u001b[37m  \u001b[39;49;00m\u001b[94m\"free\"\u001b[39;49;00m:\u001b[37m \u001b[39;49;00m\u001b[34mtrue\u001b[39;49;00m,\u001b[37m\u001b[39;49;00m\n",
      "\u001b[37m  \u001b[39;49;00m\u001b[94m\"genre\"\u001b[39;49;00m:\u001b[37m \u001b[39;49;00m\u001b[33m\"Beauty\"\u001b[39;49;00m,\u001b[37m\u001b[39;49;00m\n",
      "\u001b[37m  \u001b[39;49;00m\u001b[94m\"genreId\"\u001b[39;49;00m:\u001b[37m \u001b[39;49;00m\u001b[33m\"BEAUTY\"\u001b[39;49;00m,\u001b[37m\u001b[39;49;00m\n",
      "\u001b[37m  \u001b[39;49;00m\u001b[94m\"headerImage\"\u001b[39;49;00m:\u001b[37m \u001b[39;49;00m\u001b[33m\"https://play-lh.googleusercontent.com/ogtzLEJwsruJ-p_PYqyMHuTtPex7F1uJle3uBsvQiOJbQe5aCnz7a2Q3zrdTukPwkuQ\"\u001b[39;49;00m,\u001b[37m\u001b[39;49;00m\n",
      "\u001b[37m  \u001b[39;49;00m\u001b[94m\"histogram\"\u001b[39;49;00m:\u001b[37m \u001b[39;49;00m[\u001b[37m\u001b[39;49;00m\n",
      "\u001b[37m    \u001b[39;49;00m\u001b[34m1365\u001b[39;49;00m,\u001b[37m\u001b[39;49;00m\n",
      "\u001b[37m    \u001b[39;49;00m\u001b[34m414\u001b[39;49;00m,\u001b[37m\u001b[39;49;00m\n",
      "\u001b[37m    \u001b[39;49;00m\u001b[34m789\u001b[39;49;00m,\u001b[37m\u001b[39;49;00m\n",
      "\u001b[37m    \u001b[39;49;00m\u001b[34m4676\u001b[39;49;00m,\u001b[37m\u001b[39;49;00m\n",
      "\u001b[37m    \u001b[39;49;00m\u001b[34m43710\u001b[39;49;00m\u001b[37m\u001b[39;49;00m\n",
      "\u001b[37m  \u001b[39;49;00m],\u001b[37m\u001b[39;49;00m\n",
      "\u001b[37m  \u001b[39;49;00m\u001b[94m\"icon\"\u001b[39;49;00m:\u001b[37m \u001b[39;49;00m\u001b[33m\"https://play-lh.googleusercontent.com/KlIy3ra6P-kVXAlSq2D5YK1Qd5PNlz4ypviGURC2BpgbtBHU9-dLq1pVWVUBR_k_e3JT\"\u001b[39;49;00m,\u001b[37m\u001b[39;49;00m\n",
      "\u001b[37m  \u001b[39;49;00m\u001b[94m\"inAppProductPrice\"\u001b[39;49;00m:\u001b[37m \u001b[39;49;00m\u001b[34mnull\u001b[39;49;00m,\u001b[37m\u001b[39;49;00m\n",
      "\u001b[37m  \u001b[39;49;00m\u001b[94m\"installs\"\u001b[39;49;00m:\u001b[37m \u001b[39;49;00m\u001b[33m\"1,000,000+\"\u001b[39;49;00m,\u001b[37m\u001b[39;49;00m\n",
      "\u001b[37m  \u001b[39;49;00m\u001b[94m\"minInstalls\"\u001b[39;49;00m:\u001b[37m \u001b[39;49;00m\u001b[34m1000000\u001b[39;49;00m,\u001b[37m\u001b[39;49;00m\n",
      "\u001b[37m  \u001b[39;49;00m\u001b[94m\"offersIAP\"\u001b[39;49;00m:\u001b[37m \u001b[39;49;00m\u001b[34mfalse\u001b[39;49;00m,\u001b[37m\u001b[39;49;00m\n",
      "\u001b[37m  \u001b[39;49;00m\u001b[94m\"originalPrice\"\u001b[39;49;00m:\u001b[37m \u001b[39;49;00m\u001b[34mnull\u001b[39;49;00m,\u001b[37m\u001b[39;49;00m\n",
      "\u001b[37m  \u001b[39;49;00m\u001b[94m\"price\"\u001b[39;49;00m:\u001b[37m \u001b[39;49;00m\u001b[34m0\u001b[39;49;00m,\u001b[37m\u001b[39;49;00m\n",
      "\u001b[37m  \u001b[39;49;00m\u001b[94m\"privacyPolicy\"\u001b[39;49;00m:\u001b[37m \u001b[39;49;00m\u001b[33m\"http://www.styleseat.com/privacy\"\u001b[39;49;00m,\u001b[37m\u001b[39;49;00m\n",
      "\u001b[37m  \u001b[39;49;00m\u001b[94m\"ratings\"\u001b[39;49;00m:\u001b[37m \u001b[39;49;00m\u001b[34m50960\u001b[39;49;00m,\u001b[37m\u001b[39;49;00m\n",
      "\u001b[37m  \u001b[39;49;00m\u001b[94m\"realInstalls\"\u001b[39;49;00m:\u001b[37m \u001b[39;49;00m\u001b[34m1529479\u001b[39;49;00m,\u001b[37m\u001b[39;49;00m\n",
      "\u001b[37m  \u001b[39;49;00m\u001b[94m\"released\"\u001b[39;49;00m:\u001b[37m \u001b[39;49;00m\u001b[33m\"Oct 25, 2011\"\u001b[39;49;00m,\u001b[37m\u001b[39;49;00m\n",
      "\u001b[37m  \u001b[39;49;00m\u001b[94m\"reviews\"\u001b[39;49;00m:\u001b[37m \u001b[39;49;00m\u001b[34m11340\u001b[39;49;00m,\u001b[37m\u001b[39;49;00m\n",
      "\u001b[37m  \u001b[39;49;00m\u001b[94m\"sale\"\u001b[39;49;00m:\u001b[37m \u001b[39;49;00m\u001b[34mfalse\u001b[39;49;00m,\u001b[37m\u001b[39;49;00m\n",
      "\u001b[37m  \u001b[39;49;00m\u001b[94m\"saleText\"\u001b[39;49;00m:\u001b[37m \u001b[39;49;00m\u001b[34mnull\u001b[39;49;00m,\u001b[37m\u001b[39;49;00m\n",
      "\u001b[37m  \u001b[39;49;00m\u001b[94m\"saleTime\"\u001b[39;49;00m:\u001b[37m \u001b[39;49;00m\u001b[34mnull\u001b[39;49;00m,\u001b[37m\u001b[39;49;00m\n",
      "\u001b[37m  \u001b[39;49;00m\u001b[94m\"score\"\u001b[39;49;00m:\u001b[37m \u001b[39;49;00m\u001b[34m4.7455306\u001b[39;49;00m,\u001b[37m\u001b[39;49;00m\n",
      "\u001b[37m  \u001b[39;49;00m\u001b[94m\"screenshots\"\u001b[39;49;00m:\u001b[37m \u001b[39;49;00m[\u001b[37m\u001b[39;49;00m\n",
      "\u001b[37m    \u001b[39;49;00m\u001b[33m\"https://play-lh.googleusercontent.com/EyBujOwLkVf8ga7JVK63TJ74xkmsD1Sp2HmlQBExIab-Zc4lPz2MIroDaf0X4QoLzAo\"\u001b[39;49;00m,\u001b[37m\u001b[39;49;00m\n",
      "\u001b[37m    \u001b[39;49;00m\u001b[33m\"https://play-lh.googleusercontent.com/bW0fXlTzlMCPWbF5WFkYy8Y_zWWGVph_QRtbNoQZgc9P8KIdMHklZ0ui6sSLUhgV\"\u001b[39;49;00m,\u001b[37m\u001b[39;49;00m\n",
      "\u001b[37m    \u001b[39;49;00m\u001b[33m\"https://play-lh.googleusercontent.com/I88WikTPYqInyd0FEnJ0mpHqD7LhTBB2W8ibCjN4s4SW-U1vCDfbuZ8Dq3ToEkoKSiw\"\u001b[39;49;00m,\u001b[37m\u001b[39;49;00m\n",
      "\u001b[37m    \u001b[39;49;00m\u001b[33m\"https://play-lh.googleusercontent.com/8J5j2SkHnznD0hB1MR3Kq0vhSGBgLUm0svdgfU11tsMTSTKUlzdOTMxOg0NrI2tT_z8\"\u001b[39;49;00m,\u001b[37m\u001b[39;49;00m\n",
      "\u001b[37m    \u001b[39;49;00m\u001b[33m\"https://play-lh.googleusercontent.com/_boJ_lzITW-dDMynQgUSerKZO4fhQd_eG4-A_4k0bf8ml6bNojoksV04Gjn0Ugf_1Z4\"\u001b[39;49;00m,\u001b[37m\u001b[39;49;00m\n",
      "\u001b[37m    \u001b[39;49;00m\u001b[33m\"https://play-lh.googleusercontent.com/dDoI3aKX24t5e-ajBkF8J742ZMtzGdBjNiSJaHArs0giEP_1ebLrogjKBFBkxWo6AVI\"\u001b[39;49;00m,\u001b[37m\u001b[39;49;00m\n",
      "\u001b[37m    \u001b[39;49;00m\u001b[33m\"https://play-lh.googleusercontent.com/n4yjU-WsGRo1oigWkD9HKYVVPsWMdDgW3EgmqvffqUkBRtCxpSX1UPHLLaZo53hBiA\"\u001b[39;49;00m,\u001b[37m\u001b[39;49;00m\n",
      "\u001b[37m    \u001b[39;49;00m\u001b[33m\"https://play-lh.googleusercontent.com/ZInWgcFlh9mhi-JwwKIrnyzIzQ_g18r014yJY3VM7op_ju0YNoXNwAvjyMFWwaGSx1uR\"\u001b[39;49;00m,\u001b[37m\u001b[39;49;00m\n",
      "\u001b[37m    \u001b[39;49;00m\u001b[33m\"https://play-lh.googleusercontent.com/cNA5A9e9Z-Z_PQzFfD4I-pgqwviCJSYJD3Gw-l9nBKD2x7DkjLCaO1TxRU23ODSF1zY9\"\u001b[39;49;00m,\u001b[37m\u001b[39;49;00m\n",
      "\u001b[37m    \u001b[39;49;00m\u001b[33m\"https://play-lh.googleusercontent.com/PUuRQoww1f3GAL1y4NUotjLEpYUGm6JCewQPMK1GdE8tFmNfSyCyFMzhXvxPEKXfgtE\"\u001b[39;49;00m,\u001b[37m\u001b[39;49;00m\n",
      "\u001b[37m    \u001b[39;49;00m\u001b[33m\"https://play-lh.googleusercontent.com/kgEkgtL23Sd7FrQo3jRlM4VQiUg_vrGFkHCsWiS3Okkk_C2SYpzmeashf8geUIAF0QU\"\u001b[39;49;00m,\u001b[37m\u001b[39;49;00m\n",
      "\u001b[37m    \u001b[39;49;00m\u001b[33m\"https://play-lh.googleusercontent.com/yep_9yapnaGkV0Vxc98oxQ2DzDTA3TjmosefQp1defR9DaBoskwt8ASdj9N-BflmGB0J\"\u001b[39;49;00m,\u001b[37m\u001b[39;49;00m\n",
      "\u001b[37m    \u001b[39;49;00m\u001b[33m\"https://play-lh.googleusercontent.com/f6PQT1XvOyuJk1nlVEorzyy5z7rbVHyuZr68tMnNQG4iIpyd8FLtxGT11ox4-pi4Sk8\"\u001b[39;49;00m,\u001b[37m\u001b[39;49;00m\n",
      "\u001b[37m    \u001b[39;49;00m\u001b[33m\"https://play-lh.googleusercontent.com/N7kKpkH2R_dDfWursFfgMW4ccEMZxLXZbeRHufu3l1d7ReEwRCKmrQnnR12kEVrbm79t\"\u001b[39;49;00m,\u001b[37m\u001b[39;49;00m\n",
      "\u001b[37m    \u001b[39;49;00m\u001b[33m\"https://play-lh.googleusercontent.com/qcw9EreOVGdmEeduNUlmU5mDrL4It5ieDXcENeOz6yjLcvcymROD-DBeH3lZj6NsuFE\"\u001b[39;49;00m,\u001b[37m\u001b[39;49;00m\n",
      "\u001b[37m    \u001b[39;49;00m\u001b[33m\"https://play-lh.googleusercontent.com/PHw0b-St2dRR8iABBdX4dFQBn5J_0CSX7a3N8cS8q5phDAOhoKPurFw7HO0fEpCrCqY\"\u001b[39;49;00m\u001b[37m\u001b[39;49;00m\n",
      "\u001b[37m  \u001b[39;49;00m],\u001b[37m\u001b[39;49;00m\n",
      "\u001b[37m  \u001b[39;49;00m\u001b[94m\"summary\"\u001b[39;49;00m:\u001b[37m \u001b[39;49;00m\u001b[33m\"Salon appointment booking and scheduling software for beauty pros and barbers.\"\u001b[39;49;00m,\u001b[37m\u001b[39;49;00m\n",
      "\u001b[37m  \u001b[39;49;00m\u001b[94m\"title\"\u001b[39;49;00m:\u001b[37m \u001b[39;49;00m\u001b[33m\"StyleSeat: Book Hair & Beauty\"\u001b[39;49;00m,\u001b[37m\u001b[39;49;00m\n",
      "\u001b[37m  \u001b[39;49;00m\u001b[94m\"updated\"\u001b[39;49;00m:\u001b[37m \u001b[39;49;00m\u001b[34m1687380811\u001b[39;49;00m,\u001b[37m\u001b[39;49;00m\n",
      "\u001b[37m  \u001b[39;49;00m\u001b[94m\"url\"\u001b[39;49;00m:\u001b[37m \u001b[39;49;00m\u001b[33m\"https://play.google.com/store/apps/details?id=com.styleseat.promobile&hl=en&gl=us\"\u001b[39;49;00m,\u001b[37m\u001b[39;49;00m\n",
      "\u001b[37m  \u001b[39;49;00m\u001b[94m\"version\"\u001b[39;49;00m:\u001b[37m \u001b[39;49;00m\u001b[33m\"103.9.0\"\u001b[39;49;00m,\u001b[37m\u001b[39;49;00m\n",
      "\u001b[37m  \u001b[39;49;00m\u001b[94m\"video\"\u001b[39;49;00m:\u001b[37m \u001b[39;49;00m\u001b[34mnull\u001b[39;49;00m,\u001b[37m\u001b[39;49;00m\n",
      "\u001b[37m  \u001b[39;49;00m\u001b[94m\"videoImage\"\u001b[39;49;00m:\u001b[37m \u001b[39;49;00m\u001b[34mnull\u001b[39;49;00m\u001b[37m\u001b[39;49;00m\n",
      "}\u001b[37m\u001b[39;49;00m\n",
      "\n"
     ]
    }
   ],
   "source": [
    "print_json(app_infos[0])"
   ]
  },
  {
   "cell_type": "markdown",
   "metadata": {
    "papermill": {
     "duration": 0.020519,
     "end_time": "2021-01-15T12:52:46.090366",
     "exception": false,
     "start_time": "2021-01-15T12:52:46.069847",
     "status": "completed"
    },
    "tags": []
   },
   "source": [
    "### This contains lots of information including the number of ratings, number of reviews and number of ratings for each score (1 to 5). Let's ignore all of that and have a look at their beautiful icons:"
   ]
  },
  {
   "cell_type": "code",
   "execution_count": 28,
   "metadata": {
    "execution": {
     "iopub.execute_input": "2021-01-15T12:52:46.141051Z",
     "iopub.status.busy": "2021-01-15T12:52:46.140507Z",
     "iopub.status.idle": "2021-01-15T12:52:50.351652Z",
     "shell.execute_reply": "2021-01-15T12:52:50.351205Z"
    },
    "papermill": {
     "duration": 4.240515,
     "end_time": "2021-01-15T12:52:50.351747",
     "exception": false,
     "start_time": "2021-01-15T12:52:46.111232",
     "status": "completed"
    },
    "tags": []
   },
   "outputs": [
    {
     "name": "stderr",
     "output_type": "stream",
     "text": [
      "C:\\Users\\oyeni\\AppData\\Local\\Temp\\ipykernel_25784\\606549505.py:11: MatplotlibDeprecationWarning: Directly reading images from URLs is deprecated since 3.4 and will no longer be supported two minor releases later. Please open the URL for reading and pass the result to Pillow, e.g. with ``np.array(PIL.Image.open(urllib.request.urlopen(url)))``.\n",
      "  img = plt.imread(ai['icon'])\n"
     ]
    },
    {
     "data": {
      "image/png": "[encoded data removed]",
      "text/plain": [
       "<Figure size 1400x500 with 4 Axes>"
      ]
     },
     "metadata": {
      "image/png": {
       "height": 427,
       "width": 786
      }
     },
     "output_type": "display_data"
    }
   ],
   "source": [
    "def format_title(title):\n",
    "  sep_index = title.find(':') if title.find(':') != -1 else title.find('-')\n",
    "  if sep_index != -1:\n",
    "    title = title[:sep_index]\n",
    "  return title[:10]\n",
    "\n",
    "fig, axs = plt.subplots(2, len(app_infos) // 2, figsize=(14, 5))\n",
    "\n",
    "for i, ax in enumerate(axs.flat):\n",
    "  ai = app_infos[i]\n",
    "  img = plt.imread(ai['icon'])\n",
    "  ax.imshow(img)\n",
    "  ax.set_title(format_title(ai['title']))\n",
    "  ax.axis('off')"
   ]
  },
  {
   "cell_type": "markdown",
   "metadata": {
    "papermill": {
     "duration": 0.027172,
     "end_time": "2021-01-15T12:52:50.406517",
     "exception": false,
     "start_time": "2021-01-15T12:52:50.379345",
     "status": "completed"
    },
    "tags": []
   },
   "source": [
    "### We will store the app information for later by converting the JSON objects into a Pandas dataframe and saving the result into a CSV file:"
   ]
  },
  {
   "cell_type": "code",
   "execution_count": 29,
   "metadata": {
    "execution": {
     "iopub.execute_input": "2021-01-15T12:52:50.464771Z",
     "iopub.status.busy": "2021-01-15T12:52:50.464259Z",
     "iopub.status.idle": "2021-01-15T12:52:50.692899Z",
     "shell.execute_reply": "2021-01-15T12:52:50.692411Z"
    },
    "papermill": {
     "duration": 0.259537,
     "end_time": "2021-01-15T12:52:50.693034",
     "exception": false,
     "start_time": "2021-01-15T12:52:50.433497",
     "status": "completed"
    },
    "tags": []
   },
   "outputs": [],
   "source": [
    "app_infos_df = pd.DataFrame(app_infos)\n",
    "app_infos_df.to_csv('apps.csv', index=None, header=True)"
   ]
  },
  {
   "cell_type": "markdown",
   "metadata": {
    "papermill": {
     "duration": 0.028296,
     "end_time": "2021-01-15T12:52:50.749756",
     "exception": false,
     "start_time": "2021-01-15T12:52:50.721460",
     "status": "completed"
    },
    "tags": []
   },
   "source": [
    "## Scraping App Reviews\n",
    "### In an ideal world, we would get all the reviews. But there are lots of them and we're scraping the data. That wouldn't be very polite. What should we do?\n",
    "\n",
    "### We want:\n",
    "\n",
    "#### * Balanced dataset - roughly the same number of reviews for each score (1-5)\n",
    "#### * A representative sample of the reviews for each app\n",
    "\n",
    "### We can satisfy the first requirement by using the scraping package option to filter the review score. For the second, we'll sort the reviews by their helpfulness, which are the reviews that Google Play thinks are most important. Just in case, we'll get a subset from the newest, too:"
   ]
  },
  {
   "cell_type": "code",
   "execution_count": 32,
   "metadata": {
    "execution": {
     "iopub.execute_input": "2021-01-15T12:52:50.832916Z",
     "iopub.status.busy": "2021-01-15T12:52:50.831508Z",
     "iopub.status.idle": "2021-01-15T12:54:06.949404Z",
     "shell.execute_reply": "2021-01-15T12:54:06.949989Z"
    },
    "papermill": {
     "duration": 76.162485,
     "end_time": "2021-01-15T12:54:06.950169",
     "exception": false,
     "start_time": "2021-01-15T12:52:50.787684",
     "status": "completed"
    },
    "tags": []
   },
   "outputs": [
    {
     "name": "stderr",
     "output_type": "stream",
     "text": [
      "100%|██████████| 4/4 [00:28<00:00,  7.05s/it]\n"
     ]
    }
   ],
   "source": [
    "app_reviews = []\n",
    "\n",
    "for ap in tqdm(app_packages):\n",
    "  for score in list(range(1, 6)):\n",
    "    for sort_order in [Sort.MOST_RELEVANT, Sort.NEWEST]:\n",
    "      rvs, _ = reviews(\n",
    "        ap,\n",
    "        lang='en',\n",
    "        country='us',\n",
    "        sort=sort_order,\n",
    "        count= 200 if score == 3 else 100,\n",
    "        filter_score_with=score\n",
    "      )\n",
    "      for r in rvs:\n",
    "        r['sortOrder'] = 'most_relevant' if sort_order == Sort.MOST_RELEVANT else 'newest'\n",
    "        r['appId'] = ap\n",
    "      app_reviews.extend(rvs)"
   ]
  },
  {
   "cell_type": "markdown",
   "metadata": {
    "papermill": {
     "duration": 0.032117,
     "end_time": "2021-01-15T12:54:07.016038",
     "exception": false,
     "start_time": "2021-01-15T12:54:06.983921",
     "status": "completed"
    },
    "tags": []
   },
   "source": [
    "### Note that we're adding the app id and sort order to each review. Here's an example for one:"
   ]
  },
  {
   "cell_type": "code",
   "execution_count": 33,
   "metadata": {
    "execution": {
     "iopub.execute_input": "2021-01-15T12:54:07.086723Z",
     "iopub.status.busy": "2021-01-15T12:54:07.086051Z",
     "iopub.status.idle": "2021-01-15T12:54:07.091913Z",
     "shell.execute_reply": "2021-01-15T12:54:07.092345Z"
    },
    "papermill": {
     "duration": 0.043832,
     "end_time": "2021-01-15T12:54:07.092466",
     "exception": false,
     "start_time": "2021-01-15T12:54:07.048634",
     "status": "completed"
    },
    "tags": []
   },
   "outputs": [
    {
     "name": "stdout",
     "output_type": "stream",
     "text": [
      "{\u001b[37m\u001b[39;49;00m\n",
      "\u001b[37m  \u001b[39;49;00m\u001b[94m\"appId\"\u001b[39;49;00m:\u001b[37m \u001b[39;49;00m\u001b[33m\"com.styleseat.promobile\"\u001b[39;49;00m,\u001b[37m\u001b[39;49;00m\n",
      "\u001b[37m  \u001b[39;49;00m\u001b[94m\"appVersion\"\u001b[39;49;00m:\u001b[37m \u001b[39;49;00m\u001b[34mnull\u001b[39;49;00m,\u001b[37m\u001b[39;49;00m\n",
      "\u001b[37m  \u001b[39;49;00m\u001b[94m\"at\"\u001b[39;49;00m:\u001b[37m \u001b[39;49;00m\u001b[33m\"2023-04-08 21:22:16\"\u001b[39;49;00m,\u001b[37m\u001b[39;49;00m\n",
      "\u001b[37m  \u001b[39;49;00m\u001b[94m\"content\"\u001b[39;49;00m:\u001b[37m \u001b[39;49;00m\u001b[33m\"Styleseat is a difficult app to use. It is pointless to install. Your favorites are listed on top of the page, and you have to swipe for hours to look for what you want. When you swipe, the app clicks on a page you did not intend to do. Hidden fees are all over this app. For the messaging feature, you are not able to review the business of the owner, and you have to put their name in the search bar. That option doesn't work, and it says there are no search results for the owner you've messaged.\"\u001b[39;49;00m,\u001b[37m\u001b[39;49;00m\n",
      "\u001b[37m  \u001b[39;49;00m\u001b[94m\"repliedAt\"\u001b[39;49;00m:\u001b[37m \u001b[39;49;00m\u001b[33m\"2023-04-08 23:01:46\"\u001b[39;49;00m,\u001b[37m\u001b[39;49;00m\n",
      "\u001b[37m  \u001b[39;49;00m\u001b[94m\"replyContent\"\u001b[39;49;00m:\u001b[37m \u001b[39;49;00m\u001b[33m\"Hi Ana! So sorry for the recent experience you've had using our platform. We update our app weekly so please be sure your app is up to date! We appreciate your feedback. Please reach out to us here: https://styleseat.freshdesk.com/support/home so that we can go over any features and other questions you may have.\"\u001b[39;49;00m,\u001b[37m\u001b[39;49;00m\n",
      "\u001b[37m  \u001b[39;49;00m\u001b[94m\"reviewCreatedVersion\"\u001b[39;49;00m:\u001b[37m \u001b[39;49;00m\u001b[34mnull\u001b[39;49;00m,\u001b[37m\u001b[39;49;00m\n",
      "\u001b[37m  \u001b[39;49;00m\u001b[94m\"reviewId\"\u001b[39;49;00m:\u001b[37m \u001b[39;49;00m\u001b[33m\"cd5ae1ec-ca83-4d2f-ba2e-515cf6ab0e1f\"\u001b[39;49;00m,\u001b[37m\u001b[39;49;00m\n",
      "\u001b[37m  \u001b[39;49;00m\u001b[94m\"score\"\u001b[39;49;00m:\u001b[37m \u001b[39;49;00m\u001b[34m1\u001b[39;49;00m,\u001b[37m\u001b[39;49;00m\n",
      "\u001b[37m  \u001b[39;49;00m\u001b[94m\"sortOrder\"\u001b[39;49;00m:\u001b[37m \u001b[39;49;00m\u001b[33m\"most_relevant\"\u001b[39;49;00m,\u001b[37m\u001b[39;49;00m\n",
      "\u001b[37m  \u001b[39;49;00m\u001b[94m\"thumbsUpCount\"\u001b[39;49;00m:\u001b[37m \u001b[39;49;00m\u001b[34m14\u001b[39;49;00m,\u001b[37m\u001b[39;49;00m\n",
      "\u001b[37m  \u001b[39;49;00m\u001b[94m\"userImage\"\u001b[39;49;00m:\u001b[37m \u001b[39;49;00m\u001b[33m\"https://play-lh.googleusercontent.com/a/AAcHTtfDpa2zHm8Y8VJQeQ1Aq4KUd6xjfT9_BcHCW_gksg=mo\"\u001b[39;49;00m,\u001b[37m\u001b[39;49;00m\n",
      "\u001b[37m  \u001b[39;49;00m\u001b[94m\"userName\"\u001b[39;49;00m:\u001b[37m \u001b[39;49;00m\u001b[33m\"Ana\"\u001b[39;49;00m\u001b[37m\u001b[39;49;00m\n",
      "}\u001b[37m\u001b[39;49;00m\n",
      "\n"
     ]
    }
   ],
   "source": [
    "print_json(app_reviews[0])"
   ]
  },
  {
   "cell_type": "markdown",
   "metadata": {
    "papermill": {
     "duration": 0.034169,
     "end_time": "2021-01-15T12:54:07.159937",
     "exception": false,
     "start_time": "2021-01-15T12:54:07.125768",
     "status": "completed"
    },
    "tags": []
   },
   "source": [
    "### Number of reviews "
   ]
  },
  {
   "cell_type": "code",
   "execution_count": 34,
   "metadata": {
    "execution": {
     "iopub.execute_input": "2021-01-15T12:54:07.246976Z",
     "iopub.status.busy": "2021-01-15T12:54:07.245691Z",
     "iopub.status.idle": "2021-01-15T12:54:07.258724Z",
     "shell.execute_reply": "2021-01-15T12:54:07.258298Z"
    },
    "papermill": {
     "duration": 0.064043,
     "end_time": "2021-01-15T12:54:07.258818",
     "exception": false,
     "start_time": "2021-01-15T12:54:07.194775",
     "status": "completed"
    },
    "tags": []
   },
   "outputs": [
    {
     "data": {
      "text/plain": [
       "1734"
      ]
     },
     "execution_count": 34,
     "metadata": {},
     "output_type": "execute_result"
    }
   ],
   "source": [
    "len(app_reviews)"
   ]
  },
  {
   "cell_type": "markdown",
   "metadata": {
    "papermill": {
     "duration": 0.033035,
     "end_time": "2021-01-15T12:54:07.326102",
     "exception": false,
     "start_time": "2021-01-15T12:54:07.293067",
     "status": "completed"
    },
    "tags": []
   },
   "source": [
    "### Let's save the reviews to a CSV file:"
   ]
  },
  {
   "cell_type": "code",
   "execution_count": 35,
   "metadata": {
    "execution": {
     "iopub.execute_input": "2021-01-15T12:54:07.411216Z",
     "iopub.status.busy": "2021-01-15T12:54:07.410492Z",
     "iopub.status.idle": "2021-01-15T12:54:07.885695Z",
     "shell.execute_reply": "2021-01-15T12:54:07.885227Z"
    },
    "papermill": {
     "duration": 0.525991,
     "end_time": "2021-01-15T12:54:07.885798",
     "exception": false,
     "start_time": "2021-01-15T12:54:07.359807",
     "status": "completed"
    },
    "tags": []
   },
   "outputs": [],
   "source": [
    "app_reviews_df = pd.DataFrame(app_reviews)\n",
    "app_reviews_df.to_csv('reviews.csv', index=None, header=True)"
   ]
  },
  {
   "cell_type": "code",
   "execution_count": 38,
   "metadata": {},
   "outputs": [
    {
     "data": {
      "text/html": [
       "<div>\n",
       "<style scoped>\n",
       "    .dataframe tbody tr th:only-of-type {\n",
       "        vertical-align: middle;\n",
       "    }\n",
       "\n",
       "    .dataframe tbody tr th {\n",
       "        vertical-align: top;\n",
       "    }\n",
       "\n",
       "    .dataframe thead th {\n",
       "        text-align: right;\n",
       "    }\n",
       "</style>\n",
       "<table border=\"1\" class=\"dataframe\">\n",
       "  <thead>\n",
       "    <tr style=\"text-align: right;\">\n",
       "      <th></th>\n",
       "      <th>reviewId</th>\n",
       "      <th>userName</th>\n",
       "      <th>userImage</th>\n",
       "      <th>content</th>\n",
       "      <th>score</th>\n",
       "      <th>thumbsUpCount</th>\n",
       "      <th>reviewCreatedVersion</th>\n",
       "      <th>at</th>\n",
       "      <th>replyContent</th>\n",
       "      <th>repliedAt</th>\n",
       "      <th>appVersion</th>\n",
       "      <th>sortOrder</th>\n",
       "      <th>appId</th>\n",
       "    </tr>\n",
       "  </thead>\n",
       "  <tbody>\n",
       "    <tr>\n",
       "      <th>1366</th>\n",
       "      <td>a52f31d0-b484-488c-871a-63ce0ef280c0</td>\n",
       "      <td>Gayathri Unnithan</td>\n",
       "      <td>https://play-lh.googleusercontent.com/a-/AD_cM...</td>\n",
       "      <td>Worst app ever</td>\n",
       "      <td>1</td>\n",
       "      <td>0</td>\n",
       "      <td>NaN</td>\n",
       "      <td>2023-02-09 13:41:29</td>\n",
       "      <td>NaN</td>\n",
       "      <td>NaN</td>\n",
       "      <td>NaN</td>\n",
       "      <td>most_relevant</td>\n",
       "      <td>com.loreal.swatchbook</td>\n",
       "    </tr>\n",
       "    <tr>\n",
       "      <th>1047</th>\n",
       "      <td>8fda2e3f-1cad-44bd-a8d3-9f6faba4caa3</td>\n",
       "      <td>teresa barnes</td>\n",
       "      <td>https://play-lh.googleusercontent.com/a/AAcHTt...</td>\n",
       "      <td>always on time and professional. I'm a forever...</td>\n",
       "      <td>5</td>\n",
       "      <td>0</td>\n",
       "      <td>101.6.0</td>\n",
       "      <td>2023-05-02 02:57:06</td>\n",
       "      <td>NaN</td>\n",
       "      <td>NaN</td>\n",
       "      <td>101.6.0</td>\n",
       "      <td>most_relevant</td>\n",
       "      <td>com.styleseat.promobile</td>\n",
       "    </tr>\n",
       "    <tr>\n",
       "      <th>1081</th>\n",
       "      <td>e2d8ca7a-322f-4ae9-b10e-f66b6391cb9c</td>\n",
       "      <td>A Google user</td>\n",
       "      <td>https://play-lh.googleusercontent.com/EGemoI2N...</td>\n",
       "      <td>I always love getting my hair done by Keysha. ...</td>\n",
       "      <td>5</td>\n",
       "      <td>1</td>\n",
       "      <td>4.62</td>\n",
       "      <td>2019-03-05 16:50:01</td>\n",
       "      <td>NaN</td>\n",
       "      <td>NaN</td>\n",
       "      <td>4.62</td>\n",
       "      <td>most_relevant</td>\n",
       "      <td>com.styleseat.promobile</td>\n",
       "    </tr>\n",
       "    <tr>\n",
       "      <th>1661</th>\n",
       "      <td>520e9c90-c047-49c4-930a-525cf83e7fa3</td>\n",
       "      <td>Laxmi professional Salon</td>\n",
       "      <td>https://play-lh.googleusercontent.com/a-/AD_cM...</td>\n",
       "      <td>Good</td>\n",
       "      <td>5</td>\n",
       "      <td>0</td>\n",
       "      <td>NaN</td>\n",
       "      <td>2020-11-24 01:40:48</td>\n",
       "      <td>NaN</td>\n",
       "      <td>NaN</td>\n",
       "      <td>NaN</td>\n",
       "      <td>newest</td>\n",
       "      <td>com.loreal.swatchbook</td>\n",
       "    </tr>\n",
       "    <tr>\n",
       "      <th>968</th>\n",
       "      <td>3a217d0c-3c97-445f-aab2-00e50341395d</td>\n",
       "      <td>Ramona Peete</td>\n",
       "      <td>https://play-lh.googleusercontent.com/a-/AD_cM...</td>\n",
       "      <td>I don't like it when it tries to charge my car...</td>\n",
       "      <td>4</td>\n",
       "      <td>2</td>\n",
       "      <td>60.2.0</td>\n",
       "      <td>2021-07-13 17:02:36</td>\n",
       "      <td>NaN</td>\n",
       "      <td>NaN</td>\n",
       "      <td>60.2.0</td>\n",
       "      <td>newest</td>\n",
       "      <td>com.styleseat.promobile</td>\n",
       "    </tr>\n",
       "    <tr>\n",
       "      <th>1588</th>\n",
       "      <td>7057431e-c755-417a-8b27-e7954d4f0f03</td>\n",
       "      <td>A Google user</td>\n",
       "      <td>https://play-lh.googleusercontent.com/EGemoI2N...</td>\n",
       "      <td>Osm product</td>\n",
       "      <td>5</td>\n",
       "      <td>0</td>\n",
       "      <td>1.2</td>\n",
       "      <td>2019-09-05 07:08:39</td>\n",
       "      <td>NaN</td>\n",
       "      <td>NaN</td>\n",
       "      <td>1.2</td>\n",
       "      <td>most_relevant</td>\n",
       "      <td>com.loreal.swatchbook</td>\n",
       "    </tr>\n",
       "    <tr>\n",
       "      <th>373</th>\n",
       "      <td>59dbbc1c-7f3d-48f5-80e4-ac55afe7b752</td>\n",
       "      <td>Greg Thompson</td>\n",
       "      <td>https://play-lh.googleusercontent.com/a-/AD_cM...</td>\n",
       "      <td>The convenience of the app is great, but they ...</td>\n",
       "      <td>2</td>\n",
       "      <td>10</td>\n",
       "      <td>55.7.0</td>\n",
       "      <td>2021-05-12 04:26:08</td>\n",
       "      <td>Hi Greg, glad you are liking the convenience o...</td>\n",
       "      <td>2021-05-12 22:11:04</td>\n",
       "      <td>55.7.0</td>\n",
       "      <td>newest</td>\n",
       "      <td>com.styleseat.promobile</td>\n",
       "    </tr>\n",
       "    <tr>\n",
       "      <th>1654</th>\n",
       "      <td>77fb9714-6261-4f3d-ad8d-e6a6be1188dc</td>\n",
       "      <td>Ju Jaro</td>\n",
       "      <td>https://play-lh.googleusercontent.com/a/AAcHTt...</td>\n",
       "      <td>Cost lot of money</td>\n",
       "      <td>5</td>\n",
       "      <td>0</td>\n",
       "      <td>NaN</td>\n",
       "      <td>2021-05-10 13:44:28</td>\n",
       "      <td>NaN</td>\n",
       "      <td>NaN</td>\n",
       "      <td>NaN</td>\n",
       "      <td>newest</td>\n",
       "      <td>com.loreal.swatchbook</td>\n",
       "    </tr>\n",
       "    <tr>\n",
       "      <th>16</th>\n",
       "      <td>0aa529dd-e0c7-46a3-ad29-d70d7f3563d9</td>\n",
       "      <td>A Google user</td>\n",
       "      <td>https://play-lh.googleusercontent.com/EGemoI2N...</td>\n",
       "      <td>Can't see the dates on the \"month view\", I con...</td>\n",
       "      <td>1</td>\n",
       "      <td>3</td>\n",
       "      <td>4.42</td>\n",
       "      <td>2018-09-27 23:00:57</td>\n",
       "      <td>Hey there, we completely understand your frust...</td>\n",
       "      <td>2018-09-28 01:24:33</td>\n",
       "      <td>4.42</td>\n",
       "      <td>most_relevant</td>\n",
       "      <td>com.styleseat.promobile</td>\n",
       "    </tr>\n",
       "    <tr>\n",
       "      <th>1667</th>\n",
       "      <td>73db4d3f-3c81-488b-8ebe-9399c5a1f638</td>\n",
       "      <td>PC beauty care Chaudhary</td>\n",
       "      <td>https://play-lh.googleusercontent.com/a-/AD_cM...</td>\n",
       "      <td>wao</td>\n",
       "      <td>5</td>\n",
       "      <td>0</td>\n",
       "      <td>NaN</td>\n",
       "      <td>2020-11-06 09:44:09</td>\n",
       "      <td>NaN</td>\n",
       "      <td>NaN</td>\n",
       "      <td>NaN</td>\n",
       "      <td>newest</td>\n",
       "      <td>com.loreal.swatchbook</td>\n",
       "    </tr>\n",
       "  </tbody>\n",
       "</table>\n",
       "</div>"
      ],
      "text/plain": [
       "                                  reviewId                  userName  \\\n",
       "1366  a52f31d0-b484-488c-871a-63ce0ef280c0         Gayathri Unnithan   \n",
       "1047  8fda2e3f-1cad-44bd-a8d3-9f6faba4caa3             teresa barnes   \n",
       "1081  e2d8ca7a-322f-4ae9-b10e-f66b6391cb9c             A Google user   \n",
       "1661  520e9c90-c047-49c4-930a-525cf83e7fa3  Laxmi professional Salon   \n",
       "968   3a217d0c-3c97-445f-aab2-00e50341395d              Ramona Peete   \n",
       "1588  7057431e-c755-417a-8b27-e7954d4f0f03             A Google user   \n",
       "373   59dbbc1c-7f3d-48f5-80e4-ac55afe7b752             Greg Thompson   \n",
       "1654  77fb9714-6261-4f3d-ad8d-e6a6be1188dc                   Ju Jaro   \n",
       "16    0aa529dd-e0c7-46a3-ad29-d70d7f3563d9             A Google user   \n",
       "1667  73db4d3f-3c81-488b-8ebe-9399c5a1f638  PC beauty care Chaudhary   \n",
       "\n",
       "                                              userImage  \\\n",
       "1366  https://play-lh.googleusercontent.com/a-/AD_cM...   \n",
       "1047  https://play-lh.googleusercontent.com/a/AAcHTt...   \n",
       "1081  https://play-lh.googleusercontent.com/EGemoI2N...   \n",
       "1661  https://play-lh.googleusercontent.com/a-/AD_cM...   \n",
       "968   https://play-lh.googleusercontent.com/a-/AD_cM...   \n",
       "1588  https://play-lh.googleusercontent.com/EGemoI2N...   \n",
       "373   https://play-lh.googleusercontent.com/a-/AD_cM...   \n",
       "1654  https://play-lh.googleusercontent.com/a/AAcHTt...   \n",
       "16    https://play-lh.googleusercontent.com/EGemoI2N...   \n",
       "1667  https://play-lh.googleusercontent.com/a-/AD_cM...   \n",
       "\n",
       "                                                content  score  thumbsUpCount  \\\n",
       "1366                                     Worst app ever      1              0   \n",
       "1047  always on time and professional. I'm a forever...      5              0   \n",
       "1081  I always love getting my hair done by Keysha. ...      5              1   \n",
       "1661                                               Good      5              0   \n",
       "968   I don't like it when it tries to charge my car...      4              2   \n",
       "1588                                        Osm product      5              0   \n",
       "373   The convenience of the app is great, but they ...      2             10   \n",
       "1654                                  Cost lot of money      5              0   \n",
       "16    Can't see the dates on the \"month view\", I con...      1              3   \n",
       "1667                                                wao      5              0   \n",
       "\n",
       "     reviewCreatedVersion                   at  \\\n",
       "1366                  NaN  2023-02-09 13:41:29   \n",
       "1047              101.6.0  2023-05-02 02:57:06   \n",
       "1081                 4.62  2019-03-05 16:50:01   \n",
       "1661                  NaN  2020-11-24 01:40:48   \n",
       "968                60.2.0  2021-07-13 17:02:36   \n",
       "1588                  1.2  2019-09-05 07:08:39   \n",
       "373                55.7.0  2021-05-12 04:26:08   \n",
       "1654                  NaN  2021-05-10 13:44:28   \n",
       "16                   4.42  2018-09-27 23:00:57   \n",
       "1667                  NaN  2020-11-06 09:44:09   \n",
       "\n",
       "                                           replyContent            repliedAt  \\\n",
       "1366                                                NaN                  NaN   \n",
       "1047                                                NaN                  NaN   \n",
       "1081                                                NaN                  NaN   \n",
       "1661                                                NaN                  NaN   \n",
       "968                                                 NaN                  NaN   \n",
       "1588                                                NaN                  NaN   \n",
       "373   Hi Greg, glad you are liking the convenience o...  2021-05-12 22:11:04   \n",
       "1654                                                NaN                  NaN   \n",
       "16    Hey there, we completely understand your frust...  2018-09-28 01:24:33   \n",
       "1667                                                NaN                  NaN   \n",
       "\n",
       "     appVersion      sortOrder                    appId  \n",
       "1366        NaN  most_relevant    com.loreal.swatchbook  \n",
       "1047    101.6.0  most_relevant  com.styleseat.promobile  \n",
       "1081       4.62  most_relevant  com.styleseat.promobile  \n",
       "1661        NaN         newest    com.loreal.swatchbook  \n",
       "968      60.2.0         newest  com.styleseat.promobile  \n",
       "1588        1.2  most_relevant    com.loreal.swatchbook  \n",
       "373      55.7.0         newest  com.styleseat.promobile  \n",
       "1654        NaN         newest    com.loreal.swatchbook  \n",
       "16         4.42  most_relevant  com.styleseat.promobile  \n",
       "1667        NaN         newest    com.loreal.swatchbook  "
      ]
     },
     "execution_count": 38,
     "metadata": {},
     "output_type": "execute_result"
    }
   ],
   "source": [
    "df = pd.read_csv('reviews.csv')"
   ]
  },
  {
   "cell_type": "code",
   "execution_count": null,
   "metadata": {},
   "outputs": [],
   "source": []
  }
 ],
 "metadata": {
  "kernelspec": {
   "display_name": "Python 3 (ipykernel)",
   "language": "python",
   "name": "python3"
  },
  "language_info": {
   "codemirror_mode": {
    "name": "ipython",
    "version": 3
   },
   "file_extension": ".py",
   "mimetype": "text/x-python",
   "name": "python",
   "nbconvert_exporter": "python",
   "pygments_lexer": "ipython3",
   "version": "3.11.7"
  },
  "papermill": {
   "duration": 102.615792,
   "end_time": "2021-01-15T12:54:08.026400",
   "environment_variables": {},
   "exception": null,
   "input_path": "__notebook__.ipynb",
   "output_path": "__notebook__.ipynb",
   "parameters": {},
   "start_time": "2021-01-15T12:52:25.410608",
   "version": "2.1.0"
  }
 },
 "nbformat": 4,
 "nbformat_minor": 4
}
